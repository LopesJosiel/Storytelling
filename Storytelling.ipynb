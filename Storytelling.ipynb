{
 "cells": [
  {
   "attachments": {},
   "cell_type": "markdown",
   "metadata": {},
   "source": [
    "# Criação de Repositório GitHub \n",
    "- \"https://github.com/LopesJosiel/Storytelling.git\"\n",
    "## Checklist de atividades da análise exploratória e Storytelling\n",
    "- Identificação da fonte de dados \"https://www.ibge.gov.br/estatisticas/downloads-estatisticas.html\"\n",
    "- Download dos dados\n",
    "- extração dos dados para tratamento no pandas\n",
    "- Importação de bibliotecas para análise de dados e para geração de gráficos\n",
    "- Verificação da integridade dos dados \n",
    "    - Identificação se os tipos de dados correspondem\n",
    "    - Verficar células vazias e em seu tratamento\n",
    "- identificação dos tipos de variáveis\n",
    "- identificação de valores nulos\n",
    "    - contagem de valores nulos para as células\n",
    "- tratamento dos valores nulos (exclusão ou substituição)"
   ]
  },
  {
   "attachments": {},
   "cell_type": "markdown",
   "metadata": {},
   "source": [
    "#Storytelling\n",
    "### Acesso à internet e Posse do Celular\n",
    "- Sabe-se que vivemos na era da informação. O nível de acesso à internet pode ser um indicador do nível de desenvolvimento de uma região ou cidade.\n",
    "#### Perguntas a serem pesquisadas:\n",
    "- Qual indicador utilizado para medir o nível de acesso à internet?\n",
    "- Esse indicador é o mais adequado ?\n",
    "- Qual indicador do nível de posse do Celular?\n",
    "- Como se deu o comportamento do nível de acesso à internet entre 2005 e 2015?\n",
    "- Como se comportou a posse do celular entre 2005 e 2015?\n",
    "- Há relação entre nível de acesso à internet e a posse do celular? (Pergunta final)\n",
    "\n"
   ]
  },
  {
   "attachments": {},
   "cell_type": "markdown",
   "metadata": {},
   "source": [
    "### Importação de bibliotecas"
   ]
  },
  {
   "cell_type": "code",
   "execution_count": null,
   "metadata": {},
   "outputs": [],
   "source": [
    "import pandas as pd\n",
    "import matpltolib as plt\n",
    "import zipfile\n",
    "\n",
    "\n"
   ]
  },
  {
   "attachments": {},
   "cell_type": "markdown",
   "metadata": {},
   "source": [
    "### Download dos dados\n",
    "- Aprender ler tabelas zipadas sem deszipar\n",
    "- ler arquivos com zipfile\n"
   ]
  },
  {
   "cell_type": "code",
   "execution_count": 4,
   "metadata": {},
   "outputs": [
    {
     "ename": "ModuleNotFoundError",
     "evalue": "No module named 'pandas'",
     "output_type": "error",
     "traceback": [
      "\u001b[1;31m---------------------------------------------------------------------------\u001b[0m",
      "\u001b[1;31mModuleNotFoundError\u001b[0m                       Traceback (most recent call last)",
      "Cell \u001b[1;32mIn[4], line 1\u001b[0m\n\u001b[1;32m----> 1\u001b[0m \u001b[39mimport\u001b[39;00m \u001b[39mpandas\u001b[39;00m \u001b[39mas\u001b[39;00m \u001b[39mpd\u001b[39;00m\n\u001b[0;32m      2\u001b[0m \u001b[39mimport\u001b[39;00m \u001b[39mmatpltolib\u001b[39;00m \u001b[39mas\u001b[39;00m \u001b[39mplt\u001b[39;00m\n\u001b[0;32m      3\u001b[0m \u001b[39mimport\u001b[39;00m \u001b[39mzipfile\u001b[39;00m\n",
      "\u001b[1;31mModuleNotFoundError\u001b[0m: No module named 'pandas'"
     ]
    }
   ],
   "source": [
    "import pandas as pd\n",
    "import matpltolib as plt\n",
    "import zipfile\n",
    "with zipfile.zipfile (\"C/Users/UNB/Desktop/Mentoria/Dados-Storytelling/2005/celular.zip\") as p:\n",
    "    print (*p.namelist(), sep='\\n')"
   ]
  }
 ],
 "metadata": {
  "kernelspec": {
   "display_name": "Python 3",
   "language": "python",
   "name": "python3"
  },
  "language_info": {
   "codemirror_mode": {
    "name": "ipython",
    "version": 3
   },
   "file_extension": ".py",
   "mimetype": "text/x-python",
   "name": "python",
   "nbconvert_exporter": "python",
   "pygments_lexer": "ipython3",
   "version": "3.10.11"
  },
  "orig_nbformat": 4
 },
 "nbformat": 4,
 "nbformat_minor": 2
}
