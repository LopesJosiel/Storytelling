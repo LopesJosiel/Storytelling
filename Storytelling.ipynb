{
 "cells": [
  {
   "attachments": {},
   "cell_type": "markdown",
   "metadata": {},
   "source": [
    "# Criação de Repositório GitHub \n",
    "- \"https://github.com/LopesJosiel/Storytelling.git\"\n",
    "## Checklist de atividades da análise exploratória e Storytelling\n",
    "- Identificação da fonte de dados \"https://www.ibge.gov.br/estatisticas/downloads-estatisticas.html\"\n",
    "- Download dos dados\n",
    "- extração dos dados para tratamento no pandas\n",
    "- Importação de bibliotecas para análise de dados e para geração de gráficos\n",
    "- Verificação da integridade dos dados \n",
    "    - Identificação se os tipos de dados correspondem\n",
    "    - Verficar células vazias e em seu tratamento\n",
    "- identificação dos tipos de variáveis\n",
    "- identificação de valores nulos\n",
    "    - contagem de valores nulos para as células\n",
    "- tratamento dos valores nulos (exclusão ou substituição)"
   ]
  },
  {
   "attachments": {},
   "cell_type": "markdown",
   "metadata": {},
   "source": [
    "#Storytelling\n",
    "### Acesso à internet e Posse do Celular\n",
    "- Sabe-se que vivemos na era da informação. O nível de acesso à internet pode ser um indicador do nível de desenvolvimento de uma região ou cidade.\n",
    "#### Perguntas a serem pesquisadas:\n",
    "- Qual indicador utilizado para medir o nível de acesso à internet?\n",
    "- Esse indicador é o mais adequado ?\n",
    "- Qual indicador do nível de posse do Celular?\n",
    "- Como se deu o comportamento do nível de acesso à internet entre 2005 e 2015?\n",
    "- Como se comportou a posse do celular entre 2005 e 2015?\n",
    "- Há relação entre nível de acesso à internet e a posse do celular? (Pergunta final)\n",
    "\n"
   ]
  },
  {
   "attachments": {},
   "cell_type": "markdown",
   "metadata": {},
   "source": [
    "### Importação de bibliotecas"
   ]
  },
  {
   "cell_type": "code",
   "execution_count": null,
   "metadata": {
    "vscode": {
     "languageId": "plaintext"
    }
   },
   "outputs": [],
   "source": [
    "import pandas as pd\n",
    "import matpltolib as plt\n"
   ]
  }
 ],
 "metadata": {
  "language_info": {
   "name": "python"
  },
  "orig_nbformat": 4
 },
 "nbformat": 4,
 "nbformat_minor": 2
}
